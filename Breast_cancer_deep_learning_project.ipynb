{
  "nbformat": 4,
  "nbformat_minor": 0,
  "metadata": {
    "colab": {
      "provenance": [],
      "gpuType": "T4",
      "mount_file_id": "1vfhpcH7a8XSgtW7JsuKttdSxW2TeokHp",
      "authorship_tag": "ABX9TyOUW07yaH3lsFm/iXDtu2Rj",
      "include_colab_link": true
    },
    "kernelspec": {
      "name": "python3",
      "display_name": "Python 3"
    },
    "language_info": {
      "name": "python"
    },
    "accelerator": "GPU"
  },
  "cells": [
    {
      "cell_type": "markdown",
      "metadata": {
        "id": "view-in-github",
        "colab_type": "text"
      },
      "source": [
        "<a href=\"https://colab.research.google.com/github/Femiola914/Breast-cancer-deep-learning-model./blob/main/Breast_cancer_deep_learning_project.ipynb\" target=\"_parent\"><img src=\"https://colab.research.google.com/assets/colab-badge.svg\" alt=\"Open In Colab\"/></a>"
      ]
    },
    {
      "cell_type": "markdown",
      "source": [
        "** BREAST CANCER PROJECT**"
      ],
      "metadata": {
        "id": "bL0To2SVaqQB"
      }
    },
    {
      "cell_type": "markdown",
      "source": [
        "This is a deep learning model programmed with python that be used to triage breast cancer cases into the benign or mak=lignant type, Using the Fine needle aspiration result.  "
      ],
      "metadata": {
        "id": "9BjT5x35_Zoh"
      }
    },
    {
      "cell_type": "markdown",
      "source": [
        "The data set used is the wisconsin data set that comprises of 569 instances with 30 features each."
      ],
      "metadata": {
        "id": "bJfdpYYFctEC"
      }
    },
    {
      "cell_type": "markdown",
      "source": [
        "The wisconsin data set is picked because it is widely acceptable"
      ],
      "metadata": {
        "id": "x-NQahT_dfY6"
      }
    },
    {
      "cell_type": "markdown",
      "source": [
        "The following codes are to import several Python libraries used for data analysis and visualization."
      ],
      "metadata": {
        "id": "A0Dgba1ya39H"
      }
    },
    {
      "cell_type": "markdown",
      "source": [
        "pandas as pd: Imports the Pandas library and aliases it as pd. Pandas is used for data manipulation and analysis.\n",
        "\n",
        "matplotlib import pyplot as plt: Imports the pyplot module from the Matplotlib library and aliases it as plt. Matplotlib is a plotting library, and pyplot provides a collection of functions to create plots.\n",
        "\n",
        "seaborn as sns: Imports the Seaborn library, which is built on top of Matplotlib and provides additional statistical plotting capabilities. It is often used for creating more visually appealing plots.\n",
        "\n",
        "numpy as np: Imports the NumPy library and aliases it as np. NumPy is used for numerical operations and working with arrays.\n",
        "\n",
        "sklearn.preprocessing import StandardScaler, LabelEncoder:These are preprocessing modules from the scikit-learn library.\n",
        "StandardScaler is used for standardizing features by removing the mean and scaling to unit variance.\n",
        "LabelEncoder is used for encoding categorical labels with numerical values."
      ],
      "metadata": {
        "id": "cC0jn-cGxMol"
      }
    },
    {
      "cell_type": "code",
      "execution_count": null,
      "metadata": {
        "id": "YNV7g5vtaOCz"
      },
      "outputs": [],
      "source": [
        "import pandas as pd\n",
        "from matplotlib import pyplot as pit\n",
        "import seaborn as sns\n",
        "import numpy as np\n",
        "from sklearn.preprocessing import StandardScaler, LabelEncoder"
      ]
    },
    {
      "cell_type": "markdown",
      "source": [
        "This code imports the Wisconsin breast cancer Dataset as a CSV file named \"data.csv\" using Pandas and then prints the transpose of the descriptive statistics of the DataFrame."
      ],
      "metadata": {
        "id": "kf6TzNcrfHAi"
      }
    },
    {
      "cell_type": "code",
      "source": [
        "df = pd.read_csv(\"/content/drive/MyDrive/Colab Notebooks/DATA/data.csv\")\n",
        "print(df.describe().T)"
      ],
      "metadata": {
        "colab": {
          "base_uri": "https://localhost:8080/"
        },
        "id": "qLo95OJWsvIR",
        "outputId": "c29c2c8e-04d8-4ba4-e9b9-60cf54d24242"
      },
      "execution_count": null,
      "outputs": [
        {
          "output_type": "stream",
          "name": "stdout",
          "text": [
            "                         count          mean           std          min  \\\n",
            "id                       569.0  3.037183e+07  1.250206e+08  8670.000000   \n",
            "radius_mean              569.0  1.412729e+01  3.524049e+00     6.981000   \n",
            "texture_mean             569.0  1.928965e+01  4.301036e+00     9.710000   \n",
            "perimeter_mean           569.0  9.196903e+01  2.429898e+01    43.790000   \n",
            "area_mean                569.0  6.548891e+02  3.519141e+02   143.500000   \n",
            "smoothness_mean          569.0  9.636028e-02  1.406413e-02     0.052630   \n",
            "compactness_mean         569.0  1.043410e-01  5.281276e-02     0.019380   \n",
            "concavity_mean           569.0  8.879932e-02  7.971981e-02     0.000000   \n",
            "concave points_mean      569.0  4.891915e-02  3.880284e-02     0.000000   \n",
            "symmetry_mean            569.0  1.811619e-01  2.741428e-02     0.106000   \n",
            "fractal_dimension_mean   569.0  6.279761e-02  7.060363e-03     0.049960   \n",
            "radius_se                569.0  4.051721e-01  2.773127e-01     0.111500   \n",
            "texture_se               569.0  1.216853e+00  5.516484e-01     0.360200   \n",
            "perimeter_se             569.0  2.866059e+00  2.021855e+00     0.757000   \n",
            "area_se                  569.0  4.033708e+01  4.549101e+01     6.802000   \n",
            "smoothness_se            569.0  7.040979e-03  3.002518e-03     0.001713   \n",
            "compactness_se           569.0  2.547814e-02  1.790818e-02     0.002252   \n",
            "concavity_se             569.0  3.189372e-02  3.018606e-02     0.000000   \n",
            "concave points_se        569.0  1.179614e-02  6.170285e-03     0.000000   \n",
            "symmetry_se              569.0  2.054230e-02  8.266372e-03     0.007882   \n",
            "fractal_dimension_se     569.0  3.794904e-03  2.646071e-03     0.000895   \n",
            "radius_worst             569.0  1.626919e+01  4.833242e+00     7.930000   \n",
            "texture_worst            569.0  2.567722e+01  6.146258e+00    12.020000   \n",
            "perimeter_worst          569.0  1.072612e+02  3.360254e+01    50.410000   \n",
            "area_worst               569.0  8.805831e+02  5.693570e+02   185.200000   \n",
            "smoothness_worst         569.0  1.323686e-01  2.283243e-02     0.071170   \n",
            "compactness_worst        569.0  2.542650e-01  1.573365e-01     0.027290   \n",
            "concavity_worst          569.0  2.721885e-01  2.086243e-01     0.000000   \n",
            "concave points_worst     569.0  1.146062e-01  6.573234e-02     0.000000   \n",
            "symmetry_worst           569.0  2.900756e-01  6.186747e-02     0.156500   \n",
            "fractal_dimension_worst  569.0  8.394582e-02  1.806127e-02     0.055040   \n",
            "Unnamed: 32                0.0           NaN           NaN          NaN   \n",
            "\n",
            "                                   25%            50%           75%  \\\n",
            "id                       869218.000000  906024.000000  8.813129e+06   \n",
            "radius_mean                  11.700000      13.370000  1.578000e+01   \n",
            "texture_mean                 16.170000      18.840000  2.180000e+01   \n",
            "perimeter_mean               75.170000      86.240000  1.041000e+02   \n",
            "area_mean                   420.300000     551.100000  7.827000e+02   \n",
            "smoothness_mean               0.086370       0.095870  1.053000e-01   \n",
            "compactness_mean              0.064920       0.092630  1.304000e-01   \n",
            "concavity_mean                0.029560       0.061540  1.307000e-01   \n",
            "concave points_mean           0.020310       0.033500  7.400000e-02   \n",
            "symmetry_mean                 0.161900       0.179200  1.957000e-01   \n",
            "fractal_dimension_mean        0.057700       0.061540  6.612000e-02   \n",
            "radius_se                     0.232400       0.324200  4.789000e-01   \n",
            "texture_se                    0.833900       1.108000  1.474000e+00   \n",
            "perimeter_se                  1.606000       2.287000  3.357000e+00   \n",
            "area_se                      17.850000      24.530000  4.519000e+01   \n",
            "smoothness_se                 0.005169       0.006380  8.146000e-03   \n",
            "compactness_se                0.013080       0.020450  3.245000e-02   \n",
            "concavity_se                  0.015090       0.025890  4.205000e-02   \n",
            "concave points_se             0.007638       0.010930  1.471000e-02   \n",
            "symmetry_se                   0.015160       0.018730  2.348000e-02   \n",
            "fractal_dimension_se          0.002248       0.003187  4.558000e-03   \n",
            "radius_worst                 13.010000      14.970000  1.879000e+01   \n",
            "texture_worst                21.080000      25.410000  2.972000e+01   \n",
            "perimeter_worst              84.110000      97.660000  1.254000e+02   \n",
            "area_worst                  515.300000     686.500000  1.084000e+03   \n",
            "smoothness_worst              0.116600       0.131300  1.460000e-01   \n",
            "compactness_worst             0.147200       0.211900  3.391000e-01   \n",
            "concavity_worst               0.114500       0.226700  3.829000e-01   \n",
            "concave points_worst          0.064930       0.099930  1.614000e-01   \n",
            "symmetry_worst                0.250400       0.282200  3.179000e-01   \n",
            "fractal_dimension_worst       0.071460       0.080040  9.208000e-02   \n",
            "Unnamed: 32                        NaN            NaN           NaN   \n",
            "\n",
            "                                  max  \n",
            "id                       9.113205e+08  \n",
            "radius_mean              2.811000e+01  \n",
            "texture_mean             3.928000e+01  \n",
            "perimeter_mean           1.885000e+02  \n",
            "area_mean                2.501000e+03  \n",
            "smoothness_mean          1.634000e-01  \n",
            "compactness_mean         3.454000e-01  \n",
            "concavity_mean           4.268000e-01  \n",
            "concave points_mean      2.012000e-01  \n",
            "symmetry_mean            3.040000e-01  \n",
            "fractal_dimension_mean   9.744000e-02  \n",
            "radius_se                2.873000e+00  \n",
            "texture_se               4.885000e+00  \n",
            "perimeter_se             2.198000e+01  \n",
            "area_se                  5.422000e+02  \n",
            "smoothness_se            3.113000e-02  \n",
            "compactness_se           1.354000e-01  \n",
            "concavity_se             3.960000e-01  \n",
            "concave points_se        5.279000e-02  \n",
            "symmetry_se              7.895000e-02  \n",
            "fractal_dimension_se     2.984000e-02  \n",
            "radius_worst             3.604000e+01  \n",
            "texture_worst            4.954000e+01  \n",
            "perimeter_worst          2.512000e+02  \n",
            "area_worst               4.254000e+03  \n",
            "smoothness_worst         2.226000e-01  \n",
            "compactness_worst        1.058000e+00  \n",
            "concavity_worst          1.252000e+00  \n",
            "concave points_worst     2.910000e-01  \n",
            "symmetry_worst           6.638000e-01  \n",
            "fractal_dimension_worst  2.075000e-01  \n",
            "Unnamed: 32                       NaN  \n"
          ]
        }
      ]
    },
    {
      "cell_type": "markdown",
      "source": [
        "This code Drops the null column at index 32 from the DataFrame df.\n",
        "Then Prints the count of missing values for each column in the DataFrame."
      ],
      "metadata": {
        "id": "16phOiV5fzGM"
      }
    },
    {
      "cell_type": "code",
      "source": [
        "df = df.drop(df.columns[32], axis=1)\n",
        "print(df.isnull().sum())\n"
      ],
      "metadata": {
        "colab": {
          "base_uri": "https://localhost:8080/"
        },
        "id": "YO3efM0OtMuj",
        "outputId": "7c981bfd-659b-4a9e-e07f-17dbee13935a"
      },
      "execution_count": null,
      "outputs": [
        {
          "output_type": "stream",
          "name": "stdout",
          "text": [
            "id                         0\n",
            "diagnosis                  0\n",
            "radius_mean                0\n",
            "texture_mean               0\n",
            "perimeter_mean             0\n",
            "area_mean                  0\n",
            "smoothness_mean            0\n",
            "compactness_mean           0\n",
            "concavity_mean             0\n",
            "concave points_mean        0\n",
            "symmetry_mean              0\n",
            "fractal_dimension_mean     0\n",
            "radius_se                  0\n",
            "texture_se                 0\n",
            "perimeter_se               0\n",
            "area_se                    0\n",
            "smoothness_se              0\n",
            "compactness_se             0\n",
            "concavity_se               0\n",
            "concave points_se          0\n",
            "symmetry_se                0\n",
            "fractal_dimension_se       0\n",
            "radius_worst               0\n",
            "texture_worst              0\n",
            "perimeter_worst            0\n",
            "area_worst                 0\n",
            "smoothness_worst           0\n",
            "compactness_worst          0\n",
            "concavity_worst            0\n",
            "concave points_worst       0\n",
            "symmetry_worst             0\n",
            "fractal_dimension_worst    0\n",
            "dtype: int64\n"
          ]
        }
      ]
    },
    {
      "cell_type": "markdown",
      "source": [
        "This code renames the diagnosis column to label the prints the data type"
      ],
      "metadata": {
        "id": "gyZ5-ndygP1E"
      }
    },
    {
      "cell_type": "code",
      "source": [
        "df = df.rename(columns={'diagnosis':'label'})\n",
        "print (df.dtypes)"
      ],
      "metadata": {
        "colab": {
          "base_uri": "https://localhost:8080/"
        },
        "id": "X_mMMqSNtpw8",
        "outputId": "cf3d76f0-d374-4f91-d040-8c5d2d3e7ae1"
      },
      "execution_count": null,
      "outputs": [
        {
          "output_type": "stream",
          "name": "stdout",
          "text": [
            "id                           int64\n",
            "label                       object\n",
            "radius_mean                float64\n",
            "texture_mean               float64\n",
            "perimeter_mean             float64\n",
            "area_mean                  float64\n",
            "smoothness_mean            float64\n",
            "compactness_mean           float64\n",
            "concavity_mean             float64\n",
            "concave points_mean        float64\n",
            "symmetry_mean              float64\n",
            "fractal_dimension_mean     float64\n",
            "radius_se                  float64\n",
            "texture_se                 float64\n",
            "perimeter_se               float64\n",
            "area_se                    float64\n",
            "smoothness_se              float64\n",
            "compactness_se             float64\n",
            "concavity_se               float64\n",
            "concave points_se          float64\n",
            "symmetry_se                float64\n",
            "fractal_dimension_se       float64\n",
            "radius_worst               float64\n",
            "texture_worst              float64\n",
            "perimeter_worst            float64\n",
            "area_worst                 float64\n",
            "smoothness_worst           float64\n",
            "compactness_worst          float64\n",
            "concavity_worst            float64\n",
            "concave points_worst       float64\n",
            "symmetry_worst             float64\n",
            "fractal_dimension_worst    float64\n",
            "dtype: object\n"
          ]
        }
      ]
    },
    {
      "cell_type": "markdown",
      "source": [
        "This code is used for preprocessing and visualisation by creating a count plot using the Seaborn library. It visualizes the distribution of the categorical variable 'label' in the DataFrame df. The x-axis represents the categories, and the y-axis represents the count of occurrences for each category. to help the machine understand the provided data."
      ],
      "metadata": {
        "id": "Ug6lDHHUhIze"
      }
    },
    {
      "cell_type": "code",
      "source": [
        "sns.countplot(x=\"label\", data=df) #M - malignant   B - benign"
      ],
      "metadata": {
        "colab": {
          "base_uri": "https://localhost:8080/",
          "height": 466
        },
        "id": "gONe0uwOuNEF",
        "outputId": "b4838e74-9b17-4707-96fc-5420c526223d"
      },
      "execution_count": null,
      "outputs": [
        {
          "output_type": "execute_result",
          "data": {
            "text/plain": [
              "<Axes: xlabel='label', ylabel='count'>"
            ]
          },
          "metadata": {},
          "execution_count": 22
        },
        {
          "output_type": "display_data",
          "data": {
            "text/plain": [
              "<Figure size 640x480 with 1 Axes>"
            ],
            "image/png": "[encoded data removed]"
          },
          "metadata": {}
        }
      ]
    },
    {
      "cell_type": "markdown",
      "source": [
        "The primary purpose here is to check the distribution of the original labels, display the unique values before encoding, and then encode the labels ('M' and 'B') into numerical values ('1' and '0') using LabelEncoder."
      ],
      "metadata": {
        "id": "jvm_NjfVi6Fy"
      }
    },
    {
      "cell_type": "code",
      "source": [
        "\n",
        "print(\"Distribution of data: \", df['label'].value_counts())\n",
        "\n",
        "y = df[\"label\"].values\n",
        "print(\"diagnosis before encoding are: \", np.unique(y))\n",
        "\n",
        "from sklearn.preprocessing import LabelEncoder\n",
        "labelencoder = LabelEncoder()\n",
        "Y = labelencoder.fit_transform(y) # M=1 and B=0\n",
        "print(\"Labels after encoding are: \", np.unique(Y))"
      ],
      "metadata": {
        "colab": {
          "base_uri": "https://localhost:8080/"
        },
        "id": "nMbbV_dTvHjG",
        "outputId": "0884318f-16b2-47b4-c6ac-684cddfd19a7"
      },
      "execution_count": null,
      "outputs": [
        {
          "output_type": "stream",
          "name": "stdout",
          "text": [
            "Distribution of data:  B    357\n",
            "M    212\n",
            "Name: label, dtype: int64\n",
            "diagnosis before encoding are:  ['B' 'M']\n",
            "Labels after encoding are:  [0 1]\n"
          ]
        }
      ]
    },
    {
      "cell_type": "markdown",
      "source": [
        "Essentially, this code is preparing the feature set (X) for further analysis by excluding the columns \"id\" and \"label\" and providing descriptive statistics for the remaining features."
      ],
      "metadata": {
        "id": "jK5vIMsKkiMK"
      }
    },
    {
      "cell_type": "code",
      "source": [
        "X = df.drop(labels = [\"id\" , \"label\"], axis=1)\n",
        "print(X.describe().T)\n",
        "\n",
        "\n"
      ],
      "metadata": {
        "colab": {
          "base_uri": "https://localhost:8080/"
        },
        "id": "5Zc66Skowsgo",
        "outputId": "c8270495-d7d7-4f21-a591-bc5304140069"
      },
      "execution_count": null,
      "outputs": [
        {
          "output_type": "stream",
          "name": "stdout",
          "text": [
            "                         count        mean         std         min  \\\n",
            "radius_mean              569.0   14.127292    3.524049    6.981000   \n",
            "texture_mean             569.0   19.289649    4.301036    9.710000   \n",
            "perimeter_mean           569.0   91.969033   24.298981   43.790000   \n",
            "area_mean                569.0  654.889104  351.914129  143.500000   \n",
            "smoothness_mean          569.0    0.096360    0.014064    0.052630   \n",
            "compactness_mean         569.0    0.104341    0.052813    0.019380   \n",
            "concavity_mean           569.0    0.088799    0.079720    0.000000   \n",
            "concave points_mean      569.0    0.048919    0.038803    0.000000   \n",
            "symmetry_mean            569.0    0.181162    0.027414    0.106000   \n",
            "fractal_dimension_mean   569.0    0.062798    0.007060    0.049960   \n",
            "radius_se                569.0    0.405172    0.277313    0.111500   \n",
            "texture_se               569.0    1.216853    0.551648    0.360200   \n",
            "perimeter_se             569.0    2.866059    2.021855    0.757000   \n",
            "area_se                  569.0   40.337079   45.491006    6.802000   \n",
            "smoothness_se            569.0    0.007041    0.003003    0.001713   \n",
            "compactness_se           569.0    0.025478    0.017908    0.002252   \n",
            "concavity_se             569.0    0.031894    0.030186    0.000000   \n",
            "concave points_se        569.0    0.011796    0.006170    0.000000   \n",
            "symmetry_se              569.0    0.020542    0.008266    0.007882   \n",
            "fractal_dimension_se     569.0    0.003795    0.002646    0.000895   \n",
            "radius_worst             569.0   16.269190    4.833242    7.930000   \n",
            "texture_worst            569.0   25.677223    6.146258   12.020000   \n",
            "perimeter_worst          569.0  107.261213   33.602542   50.410000   \n",
            "area_worst               569.0  880.583128  569.356993  185.200000   \n",
            "smoothness_worst         569.0    0.132369    0.022832    0.071170   \n",
            "compactness_worst        569.0    0.254265    0.157336    0.027290   \n",
            "concavity_worst          569.0    0.272188    0.208624    0.000000   \n",
            "concave points_worst     569.0    0.114606    0.065732    0.000000   \n",
            "symmetry_worst           569.0    0.290076    0.061867    0.156500   \n",
            "fractal_dimension_worst  569.0    0.083946    0.018061    0.055040   \n",
            "\n",
            "                                25%         50%          75%         max  \n",
            "radius_mean               11.700000   13.370000    15.780000    28.11000  \n",
            "texture_mean              16.170000   18.840000    21.800000    39.28000  \n",
            "perimeter_mean            75.170000   86.240000   104.100000   188.50000  \n",
            "area_mean                420.300000  551.100000   782.700000  2501.00000  \n",
            "smoothness_mean            0.086370    0.095870     0.105300     0.16340  \n",
            "compactness_mean           0.064920    0.092630     0.130400     0.34540  \n",
            "concavity_mean             0.029560    0.061540     0.130700     0.42680  \n",
            "concave points_mean        0.020310    0.033500     0.074000     0.20120  \n",
            "symmetry_mean              0.161900    0.179200     0.195700     0.30400  \n",
            "fractal_dimension_mean     0.057700    0.061540     0.066120     0.09744  \n",
            "radius_se                  0.232400    0.324200     0.478900     2.87300  \n",
            "texture_se                 0.833900    1.108000     1.474000     4.88500  \n",
            "perimeter_se               1.606000    2.287000     3.357000    21.98000  \n",
            "area_se                   17.850000   24.530000    45.190000   542.20000  \n",
            "smoothness_se              0.005169    0.006380     0.008146     0.03113  \n",
            "compactness_se             0.013080    0.020450     0.032450     0.13540  \n",
            "concavity_se               0.015090    0.025890     0.042050     0.39600  \n",
            "concave points_se          0.007638    0.010930     0.014710     0.05279  \n",
            "symmetry_se                0.015160    0.018730     0.023480     0.07895  \n",
            "fractal_dimension_se       0.002248    0.003187     0.004558     0.02984  \n",
            "radius_worst              13.010000   14.970000    18.790000    36.04000  \n",
            "texture_worst             21.080000   25.410000    29.720000    49.54000  \n",
            "perimeter_worst           84.110000   97.660000   125.400000   251.20000  \n",
            "area_worst               515.300000  686.500000  1084.000000  4254.00000  \n",
            "smoothness_worst           0.116600    0.131300     0.146000     0.22260  \n",
            "compactness_worst          0.147200    0.211900     0.339100     1.05800  \n",
            "concavity_worst            0.114500    0.226700     0.382900     1.25200  \n",
            "concave points_worst       0.064930    0.099930     0.161400     0.29100  \n",
            "symmetry_worst             0.250400    0.282200     0.317900     0.66380  \n",
            "fractal_dimension_worst    0.071460    0.080040     0.092080     0.20750  \n"
          ]
        }
      ]
    },
    {
      "cell_type": "markdown",
      "source": [
        "Using MinMaxScaler to scale the features in the DataFrame X to a specified range, scaling is often performed to ensure that all features contribute equally to the analysis."
      ],
      "metadata": {
        "id": "PF2XkVH8lKSG"
      }
    },
    {
      "cell_type": "code",
      "source": [
        "from sklearn.preprocessing import MinMaxScaler\n",
        "scaler = MinMaxScaler()\n",
        "scaler.fit(X)\n",
        "X = scaler.transform(X)\n",
        "print(X)  #Scaled values"
      ],
      "metadata": {
        "colab": {
          "base_uri": "https://localhost:8080/"
        },
        "id": "TJPx3kPn7lmK",
        "outputId": "11bf0e0b-2253-4b09-9832-ac1a4cbcd84a"
      },
      "execution_count": null,
      "outputs": [
        {
          "output_type": "stream",
          "name": "stdout",
          "text": [
            "[[0.52103744 0.0226581  0.54598853 ... 0.91202749 0.59846245 0.41886396]\n",
            " [0.64314449 0.27257355 0.61578329 ... 0.63917526 0.23358959 0.22287813]\n",
            " [0.60149557 0.3902604  0.59574321 ... 0.83505155 0.40370589 0.21343303]\n",
            " ...\n",
            " [0.45525108 0.62123774 0.44578813 ... 0.48728522 0.12872068 0.1519087 ]\n",
            " [0.64456434 0.66351031 0.66553797 ... 0.91065292 0.49714173 0.45231536]\n",
            " [0.03686876 0.50152181 0.02853984 ... 0.         0.25744136 0.10068215]]\n"
          ]
        }
      ]
    },
    {
      "cell_type": "markdown",
      "source": [
        " This code is used to split the data into training and testing sets to evaluate the model's performance on unseen data, In this case 25% of the data is dedicated to the testing data. The random_state parameter ensures reproducibility, meaning that if you run the code again with the same random state, you will get the same split."
      ],
      "metadata": {
        "id": "J7xKgf4KmxMa"
      }
    },
    {
      "cell_type": "code",
      "source": [
        "from sklearn.model_selection import train_test_split\n",
        "X_train, X_test, y_train, y_test = train_test_split(X, Y, test_size=0.25, random_state=42)\n",
        "print(\"Shape of training data is: \", X_train.shape)\n",
        "print(\"Shape of testing data is: \", X_test.shape)"
      ],
      "metadata": {
        "colab": {
          "base_uri": "https://localhost:8080/"
        },
        "id": "WeTaQHrP8Tnx",
        "outputId": "982e5350-bcdd-43d4-a5a2-146b3012d4d0"
      },
      "execution_count": null,
      "outputs": [
        {
          "output_type": "stream",
          "name": "stdout",
          "text": [
            "Shape of training data is:  (426, 30)\n",
            "Shape of testing data is:  (143, 30)\n"
          ]
        }
      ]
    },
    {
      "cell_type": "markdown",
      "source": [
        "This code is used to import sequential, dense, activation and dropout which are components used to define and configure the architecture of a neural network in Keras."
      ],
      "metadata": {
        "id": "jQLR2cKfoiOZ"
      }
    },
    {
      "cell_type": "code",
      "source": [
        "from keras.models import Sequential\n",
        "from keras.layers import Dense, Activation, Dropout"
      ],
      "metadata": {
        "id": "RLYT449q8cMu"
      },
      "execution_count": null,
      "outputs": []
    },
    {
      "cell_type": "markdown",
      "source": [
        "Input Layer (Dense with 16 neurons and 'relu' activation):\n",
        "Dense(16, input_dim=30, activation='relu')\n",
        "This layer has 16 neurons, input_dim=30 specifies that the input to this layer has 30 features and uses the ReLU (Rectified Linear Unit) activation function.\n",
        "\n",
        "Dropout Layer (Dropout with a rate of 0.2):\n",
        "Dropout(0.2)\n",
        "This layer introduces dropout with a rate of 0.2, meaning that randomly selected neurons will be set to 0 during training with a probability of 20%.\n",
        "\n",
        "Output Layer (Dense with 1 neuron and 'sigmoid' activation):\n",
        "Dense(1)-This is the output layer with 1 neuron.\n",
        "The Activation('sigmoid') applies the sigmoid activation function to squash the output between 0 and 1, which is suitable for binary classification problems.\n",
        "\n",
        "Model Compilation (model.compile):\n",
        "model.compile(loss='binary_crossentropy', optimizer='adam', metrics=['accuracy'])\n",
        "The model is compiled with binary cross-entropy as the loss function, the Adam optimizer, and accuracy as the evaluation metric.\n",
        "Summary (print(model.summary())):\n",
        "\n",
        "Prints to show a summary of the model architecture, showing the type and shape of each layer, as well as the total number of parameters."
      ],
      "metadata": {
        "id": "D7ui3i7zwrAf"
      }
    },
    {
      "cell_type": "code",
      "source": [
        "model = Sequential()\n",
        "model.add(Dense(16, input_dim=30, activation='relu'))\n",
        "model.add(Dropout(0.2))\n",
        "model.add(Dense(1))\n",
        "model.add(Activation('sigmoid'))\n",
        "\n",
        "model.compile(loss='binary_crossentropy', optimizer='adam', metrics=['accuracy'])\n",
        "\n",
        "print(model.summary())"
      ],
      "metadata": {
        "colab": {
          "base_uri": "https://localhost:8080/"
        },
        "id": "yUA9FDDg8q6c",
        "outputId": "5fb4ea9e-b830-42b8-8c75-0ddcc7db023f"
      },
      "execution_count": null,
      "outputs": [
        {
          "output_type": "stream",
          "name": "stdout",
          "text": [
            "Model: \"sequential_1\"\n",
            "_________________________________________________________________\n",
            " Layer (type)                Output Shape              Param #   \n",
            "=================================================================\n",
            " dense_2 (Dense)             (None, 16)                496       \n",
            "                                                                 \n",
            " dropout_1 (Dropout)         (None, 16)                0         \n",
            "                                                                 \n",
            " dense_3 (Dense)             (None, 1)                 17        \n",
            "                                                                 \n",
            " activation_1 (Activation)   (None, 1)                 0         \n",
            "                                                                 \n",
            "=================================================================\n",
            "Total params: 513 (2.00 KB)\n",
            "Trainable params: 513 (2.00 KB)\n",
            "Non-trainable params: 0 (0.00 Byte)\n",
            "_________________________________________________________________\n",
            "None\n"
          ]
        }
      ]
    },
    {
      "cell_type": "markdown",
      "source": [
        "THis line of code is training the neural network model using the training data (X_train, y_train) for a specified number of epochs (100 in this case), with a batch size of 64. The validation data (X_test, y_test) is used to evaluate the model's performance after each epoch."
      ],
      "metadata": {
        "id": "yiWIKG2y08P_"
      }
    },
    {
      "cell_type": "code",
      "source": [
        "history = model.fit(X_train, y_train, verbose=1, epochs=100, batch_size=64, validation_data=(X_test, y_test))"
      ],
      "metadata": {
        "id": "QMw-61sob7r-",
        "colab": {
          "base_uri": "https://localhost:8080/"
        },
        "outputId": "dbc82128-9041-462f-ae1c-8312197d78da"
      },
      "execution_count": null,
      "outputs": [
        {
          "output_type": "stream",
          "name": "stdout",
          "text": [
            "Epoch 1/100\n",
            "7/7 [==============================] - 1s 31ms/step - loss: 0.6783 - accuracy: 0.6009 - val_loss: 0.6579 - val_accuracy: 0.7273\n",
            "Epoch 2/100\n",
            "7/7 [==============================] - 0s 8ms/step - loss: 0.6626 - accuracy: 0.6385 - val_loss: 0.6427 - val_accuracy: 0.7832\n",
            "Epoch 3/100\n",
            "7/7 [==============================] - 0s 8ms/step - loss: 0.6542 - accuracy: 0.6808 - val_loss: 0.6257 - val_accuracy: 0.7902\n",
            "Epoch 4/100\n",
            "7/7 [==============================] - 0s 8ms/step - loss: 0.6354 - accuracy: 0.7230 - val_loss: 0.6081 - val_accuracy: 0.7972\n",
            "Epoch 5/100\n",
            "7/7 [==============================] - 0s 10ms/step - loss: 0.6231 - accuracy: 0.7277 - val_loss: 0.5926 - val_accuracy: 0.7972\n",
            "Epoch 6/100\n",
            "7/7 [==============================] - 0s 8ms/step - loss: 0.6039 - accuracy: 0.7676 - val_loss: 0.5784 - val_accuracy: 0.8112\n",
            "Epoch 7/100\n",
            "7/7 [==============================] - 0s 11ms/step - loss: 0.5958 - accuracy: 0.7723 - val_loss: 0.5646 - val_accuracy: 0.8322\n",
            "Epoch 8/100\n",
            "7/7 [==============================] - 0s 9ms/step - loss: 0.5837 - accuracy: 0.7934 - val_loss: 0.5511 - val_accuracy: 0.8462\n",
            "Epoch 9/100\n",
            "7/7 [==============================] - 0s 9ms/step - loss: 0.5638 - accuracy: 0.8169 - val_loss: 0.5371 - val_accuracy: 0.8671\n",
            "Epoch 10/100\n",
            "7/7 [==============================] - 0s 11ms/step - loss: 0.5519 - accuracy: 0.8239 - val_loss: 0.5232 - val_accuracy: 0.8671\n",
            "Epoch 11/100\n",
            "7/7 [==============================] - 0s 11ms/step - loss: 0.5476 - accuracy: 0.8216 - val_loss: 0.5093 - val_accuracy: 0.8741\n",
            "Epoch 12/100\n",
            "7/7 [==============================] - 0s 9ms/step - loss: 0.5360 - accuracy: 0.8099 - val_loss: 0.4956 - val_accuracy: 0.9021\n",
            "Epoch 13/100\n",
            "7/7 [==============================] - 0s 11ms/step - loss: 0.5159 - accuracy: 0.8380 - val_loss: 0.4823 - val_accuracy: 0.9021\n",
            "Epoch 14/100\n",
            "7/7 [==============================] - 0s 10ms/step - loss: 0.5098 - accuracy: 0.8286 - val_loss: 0.4693 - val_accuracy: 0.9091\n",
            "Epoch 15/100\n",
            "7/7 [==============================] - 0s 12ms/step - loss: 0.4950 - accuracy: 0.8498 - val_loss: 0.4564 - val_accuracy: 0.9161\n",
            "Epoch 16/100\n",
            "7/7 [==============================] - 0s 8ms/step - loss: 0.4952 - accuracy: 0.8357 - val_loss: 0.4442 - val_accuracy: 0.9161\n",
            "Epoch 17/100\n",
            "7/7 [==============================] - 0s 10ms/step - loss: 0.4781 - accuracy: 0.8732 - val_loss: 0.4324 - val_accuracy: 0.9231\n",
            "Epoch 18/100\n",
            "7/7 [==============================] - 0s 10ms/step - loss: 0.4701 - accuracy: 0.8638 - val_loss: 0.4211 - val_accuracy: 0.9231\n",
            "Epoch 19/100\n",
            "7/7 [==============================] - 0s 8ms/step - loss: 0.4494 - accuracy: 0.8592 - val_loss: 0.4099 - val_accuracy: 0.9231\n",
            "Epoch 20/100\n",
            "7/7 [==============================] - 0s 11ms/step - loss: 0.4402 - accuracy: 0.8568 - val_loss: 0.3992 - val_accuracy: 0.9231\n",
            "Epoch 21/100\n",
            "7/7 [==============================] - 0s 11ms/step - loss: 0.4419 - accuracy: 0.8615 - val_loss: 0.3890 - val_accuracy: 0.9301\n",
            "Epoch 22/100\n",
            "7/7 [==============================] - 0s 9ms/step - loss: 0.4303 - accuracy: 0.8685 - val_loss: 0.3790 - val_accuracy: 0.9371\n",
            "Epoch 23/100\n",
            "7/7 [==============================] - 0s 11ms/step - loss: 0.4169 - accuracy: 0.8779 - val_loss: 0.3693 - val_accuracy: 0.9371\n",
            "Epoch 24/100\n",
            "7/7 [==============================] - 0s 10ms/step - loss: 0.4010 - accuracy: 0.8826 - val_loss: 0.3598 - val_accuracy: 0.9371\n",
            "Epoch 25/100\n",
            "7/7 [==============================] - 0s 10ms/step - loss: 0.4107 - accuracy: 0.8592 - val_loss: 0.3508 - val_accuracy: 0.9371\n",
            "Epoch 26/100\n",
            "7/7 [==============================] - 0s 10ms/step - loss: 0.3933 - accuracy: 0.8545 - val_loss: 0.3425 - val_accuracy: 0.9371\n",
            "Epoch 27/100\n",
            "7/7 [==============================] - 0s 11ms/step - loss: 0.3874 - accuracy: 0.8826 - val_loss: 0.3341 - val_accuracy: 0.9371\n",
            "Epoch 28/100\n",
            "7/7 [==============================] - 0s 11ms/step - loss: 0.3799 - accuracy: 0.8709 - val_loss: 0.3267 - val_accuracy: 0.9371\n",
            "Epoch 29/100\n",
            "7/7 [==============================] - 0s 12ms/step - loss: 0.3653 - accuracy: 0.8944 - val_loss: 0.3188 - val_accuracy: 0.9371\n",
            "Epoch 30/100\n",
            "7/7 [==============================] - 0s 8ms/step - loss: 0.3636 - accuracy: 0.8967 - val_loss: 0.3116 - val_accuracy: 0.9371\n",
            "Epoch 31/100\n",
            "7/7 [==============================] - 0s 12ms/step - loss: 0.3665 - accuracy: 0.8803 - val_loss: 0.3051 - val_accuracy: 0.9371\n",
            "Epoch 32/100\n",
            "7/7 [==============================] - 0s 11ms/step - loss: 0.3603 - accuracy: 0.8756 - val_loss: 0.2988 - val_accuracy: 0.9371\n",
            "Epoch 33/100\n",
            "7/7 [==============================] - 0s 11ms/step - loss: 0.3478 - accuracy: 0.9014 - val_loss: 0.2923 - val_accuracy: 0.9371\n",
            "Epoch 34/100\n",
            "7/7 [==============================] - 0s 10ms/step - loss: 0.3374 - accuracy: 0.8944 - val_loss: 0.2868 - val_accuracy: 0.9231\n",
            "Epoch 35/100\n",
            "7/7 [==============================] - 0s 10ms/step - loss: 0.3415 - accuracy: 0.8850 - val_loss: 0.2807 - val_accuracy: 0.9301\n",
            "Epoch 36/100\n",
            "7/7 [==============================] - 0s 15ms/step - loss: 0.3265 - accuracy: 0.8920 - val_loss: 0.2747 - val_accuracy: 0.9371\n",
            "Epoch 37/100\n",
            "7/7 [==============================] - 0s 15ms/step - loss: 0.3298 - accuracy: 0.8756 - val_loss: 0.2691 - val_accuracy: 0.9371\n",
            "Epoch 38/100\n",
            "7/7 [==============================] - 0s 14ms/step - loss: 0.3186 - accuracy: 0.8850 - val_loss: 0.2644 - val_accuracy: 0.9371\n",
            "Epoch 39/100\n",
            "7/7 [==============================] - 0s 14ms/step - loss: 0.3127 - accuracy: 0.9061 - val_loss: 0.2592 - val_accuracy: 0.9441\n",
            "Epoch 40/100\n",
            "7/7 [==============================] - 0s 14ms/step - loss: 0.3174 - accuracy: 0.8944 - val_loss: 0.2546 - val_accuracy: 0.9441\n",
            "Epoch 41/100\n",
            "7/7 [==============================] - 0s 14ms/step - loss: 0.3067 - accuracy: 0.9014 - val_loss: 0.2497 - val_accuracy: 0.9441\n",
            "Epoch 42/100\n",
            "7/7 [==============================] - 0s 13ms/step - loss: 0.2960 - accuracy: 0.8967 - val_loss: 0.2454 - val_accuracy: 0.9441\n",
            "Epoch 43/100\n",
            "7/7 [==============================] - 0s 13ms/step - loss: 0.2901 - accuracy: 0.9085 - val_loss: 0.2414 - val_accuracy: 0.9371\n",
            "Epoch 44/100\n",
            "7/7 [==============================] - 0s 14ms/step - loss: 0.2857 - accuracy: 0.9085 - val_loss: 0.2373 - val_accuracy: 0.9301\n",
            "Epoch 45/100\n",
            "7/7 [==============================] - 0s 17ms/step - loss: 0.2840 - accuracy: 0.9131 - val_loss: 0.2335 - val_accuracy: 0.9301\n",
            "Epoch 46/100\n",
            "7/7 [==============================] - 0s 14ms/step - loss: 0.2850 - accuracy: 0.9061 - val_loss: 0.2298 - val_accuracy: 0.9301\n",
            "Epoch 47/100\n",
            "7/7 [==============================] - 0s 14ms/step - loss: 0.2862 - accuracy: 0.9038 - val_loss: 0.2257 - val_accuracy: 0.9371\n",
            "Epoch 48/100\n",
            "7/7 [==============================] - 0s 12ms/step - loss: 0.2889 - accuracy: 0.8991 - val_loss: 0.2223 - val_accuracy: 0.9301\n",
            "Epoch 49/100\n",
            "7/7 [==============================] - 0s 13ms/step - loss: 0.2801 - accuracy: 0.9061 - val_loss: 0.2188 - val_accuracy: 0.9371\n",
            "Epoch 50/100\n",
            "7/7 [==============================] - 0s 14ms/step - loss: 0.2765 - accuracy: 0.9085 - val_loss: 0.2160 - val_accuracy: 0.9371\n",
            "Epoch 51/100\n",
            "7/7 [==============================] - 0s 13ms/step - loss: 0.2751 - accuracy: 0.8944 - val_loss: 0.2128 - val_accuracy: 0.9371\n",
            "Epoch 52/100\n",
            "7/7 [==============================] - 0s 14ms/step - loss: 0.2653 - accuracy: 0.9108 - val_loss: 0.2101 - val_accuracy: 0.9371\n",
            "Epoch 53/100\n",
            "7/7 [==============================] - 0s 12ms/step - loss: 0.2579 - accuracy: 0.9225 - val_loss: 0.2073 - val_accuracy: 0.9301\n",
            "Epoch 54/100\n",
            "7/7 [==============================] - 0s 13ms/step - loss: 0.2656 - accuracy: 0.8920 - val_loss: 0.2038 - val_accuracy: 0.9441\n",
            "Epoch 55/100\n",
            "7/7 [==============================] - 0s 13ms/step - loss: 0.2539 - accuracy: 0.9108 - val_loss: 0.2012 - val_accuracy: 0.9441\n",
            "Epoch 56/100\n",
            "7/7 [==============================] - 0s 13ms/step - loss: 0.2495 - accuracy: 0.9108 - val_loss: 0.1989 - val_accuracy: 0.9371\n",
            "Epoch 57/100\n",
            "7/7 [==============================] - 0s 14ms/step - loss: 0.2517 - accuracy: 0.9155 - val_loss: 0.1961 - val_accuracy: 0.9441\n",
            "Epoch 58/100\n",
            "7/7 [==============================] - 0s 14ms/step - loss: 0.2480 - accuracy: 0.8991 - val_loss: 0.1929 - val_accuracy: 0.9441\n",
            "Epoch 59/100\n",
            "7/7 [==============================] - 0s 12ms/step - loss: 0.2448 - accuracy: 0.9038 - val_loss: 0.1909 - val_accuracy: 0.9441\n",
            "Epoch 60/100\n",
            "7/7 [==============================] - 0s 12ms/step - loss: 0.2510 - accuracy: 0.9108 - val_loss: 0.1883 - val_accuracy: 0.9441\n",
            "Epoch 61/100\n",
            "7/7 [==============================] - 0s 11ms/step - loss: 0.2449 - accuracy: 0.9155 - val_loss: 0.1862 - val_accuracy: 0.9441\n",
            "Epoch 62/100\n",
            "7/7 [==============================] - 0s 15ms/step - loss: 0.2466 - accuracy: 0.9038 - val_loss: 0.1851 - val_accuracy: 0.9371\n",
            "Epoch 63/100\n",
            "7/7 [==============================] - 0s 16ms/step - loss: 0.2363 - accuracy: 0.9202 - val_loss: 0.1830 - val_accuracy: 0.9371\n",
            "Epoch 64/100\n",
            "7/7 [==============================] - 0s 13ms/step - loss: 0.2443 - accuracy: 0.9202 - val_loss: 0.1813 - val_accuracy: 0.9371\n",
            "Epoch 65/100\n",
            "7/7 [==============================] - 0s 15ms/step - loss: 0.2314 - accuracy: 0.9225 - val_loss: 0.1779 - val_accuracy: 0.9441\n",
            "Epoch 66/100\n",
            "7/7 [==============================] - 0s 11ms/step - loss: 0.2305 - accuracy: 0.9014 - val_loss: 0.1753 - val_accuracy: 0.9441\n",
            "Epoch 67/100\n",
            "7/7 [==============================] - 0s 15ms/step - loss: 0.2241 - accuracy: 0.9108 - val_loss: 0.1737 - val_accuracy: 0.9441\n",
            "Epoch 68/100\n",
            "7/7 [==============================] - 0s 14ms/step - loss: 0.2233 - accuracy: 0.9061 - val_loss: 0.1721 - val_accuracy: 0.9441\n",
            "Epoch 69/100\n",
            "7/7 [==============================] - 0s 13ms/step - loss: 0.2047 - accuracy: 0.9366 - val_loss: 0.1697 - val_accuracy: 0.9441\n",
            "Epoch 70/100\n",
            "7/7 [==============================] - 0s 14ms/step - loss: 0.2195 - accuracy: 0.9061 - val_loss: 0.1671 - val_accuracy: 0.9510\n",
            "Epoch 71/100\n",
            "7/7 [==============================] - 0s 16ms/step - loss: 0.2172 - accuracy: 0.9178 - val_loss: 0.1655 - val_accuracy: 0.9510\n",
            "Epoch 72/100\n",
            "7/7 [==============================] - 0s 14ms/step - loss: 0.2191 - accuracy: 0.9038 - val_loss: 0.1641 - val_accuracy: 0.9510\n",
            "Epoch 73/100\n",
            "7/7 [==============================] - 0s 13ms/step - loss: 0.2252 - accuracy: 0.9155 - val_loss: 0.1635 - val_accuracy: 0.9510\n",
            "Epoch 74/100\n",
            "7/7 [==============================] - 0s 13ms/step - loss: 0.2119 - accuracy: 0.9249 - val_loss: 0.1608 - val_accuracy: 0.9510\n",
            "Epoch 75/100\n",
            "7/7 [==============================] - 0s 14ms/step - loss: 0.2240 - accuracy: 0.9272 - val_loss: 0.1582 - val_accuracy: 0.9510\n",
            "Epoch 76/100\n",
            "7/7 [==============================] - 0s 14ms/step - loss: 0.2228 - accuracy: 0.9131 - val_loss: 0.1565 - val_accuracy: 0.9510\n",
            "Epoch 77/100\n",
            "7/7 [==============================] - 0s 15ms/step - loss: 0.2018 - accuracy: 0.9413 - val_loss: 0.1558 - val_accuracy: 0.9510\n",
            "Epoch 78/100\n",
            "7/7 [==============================] - 0s 15ms/step - loss: 0.2045 - accuracy: 0.9319 - val_loss: 0.1556 - val_accuracy: 0.9580\n",
            "Epoch 79/100\n",
            "7/7 [==============================] - 0s 15ms/step - loss: 0.2083 - accuracy: 0.9296 - val_loss: 0.1538 - val_accuracy: 0.9580\n",
            "Epoch 80/100\n",
            "7/7 [==============================] - 0s 8ms/step - loss: 0.2020 - accuracy: 0.9319 - val_loss: 0.1509 - val_accuracy: 0.9580\n",
            "Epoch 81/100\n",
            "7/7 [==============================] - 0s 9ms/step - loss: 0.2079 - accuracy: 0.9202 - val_loss: 0.1495 - val_accuracy: 0.9580\n",
            "Epoch 82/100\n",
            "7/7 [==============================] - 0s 8ms/step - loss: 0.1932 - accuracy: 0.9390 - val_loss: 0.1489 - val_accuracy: 0.9580\n",
            "Epoch 83/100\n",
            "7/7 [==============================] - 0s 11ms/step - loss: 0.1980 - accuracy: 0.9390 - val_loss: 0.1473 - val_accuracy: 0.9580\n",
            "Epoch 84/100\n",
            "7/7 [==============================] - 0s 11ms/step - loss: 0.1948 - accuracy: 0.9272 - val_loss: 0.1465 - val_accuracy: 0.9580\n",
            "Epoch 85/100\n",
            "7/7 [==============================] - 0s 9ms/step - loss: 0.2039 - accuracy: 0.9202 - val_loss: 0.1442 - val_accuracy: 0.9580\n",
            "Epoch 86/100\n",
            "7/7 [==============================] - 0s 8ms/step - loss: 0.1845 - accuracy: 0.9413 - val_loss: 0.1427 - val_accuracy: 0.9580\n",
            "Epoch 87/100\n",
            "7/7 [==============================] - 0s 11ms/step - loss: 0.1924 - accuracy: 0.9390 - val_loss: 0.1412 - val_accuracy: 0.9580\n",
            "Epoch 88/100\n",
            "7/7 [==============================] - 0s 10ms/step - loss: 0.1923 - accuracy: 0.9366 - val_loss: 0.1407 - val_accuracy: 0.9580\n",
            "Epoch 89/100\n",
            "7/7 [==============================] - 0s 11ms/step - loss: 0.1873 - accuracy: 0.9296 - val_loss: 0.1380 - val_accuracy: 0.9580\n",
            "Epoch 90/100\n",
            "7/7 [==============================] - 0s 10ms/step - loss: 0.1796 - accuracy: 0.9531 - val_loss: 0.1372 - val_accuracy: 0.9580\n",
            "Epoch 91/100\n",
            "7/7 [==============================] - 0s 12ms/step - loss: 0.1818 - accuracy: 0.9366 - val_loss: 0.1356 - val_accuracy: 0.9580\n",
            "Epoch 92/100\n",
            "7/7 [==============================] - 0s 8ms/step - loss: 0.1979 - accuracy: 0.9272 - val_loss: 0.1337 - val_accuracy: 0.9580\n",
            "Epoch 93/100\n",
            "7/7 [==============================] - 0s 10ms/step - loss: 0.1879 - accuracy: 0.9178 - val_loss: 0.1332 - val_accuracy: 0.9580\n",
            "Epoch 94/100\n",
            "7/7 [==============================] - 0s 10ms/step - loss: 0.1749 - accuracy: 0.9413 - val_loss: 0.1318 - val_accuracy: 0.9580\n",
            "Epoch 95/100\n",
            "7/7 [==============================] - 0s 10ms/step - loss: 0.1764 - accuracy: 0.9507 - val_loss: 0.1308 - val_accuracy: 0.9580\n",
            "Epoch 96/100\n",
            "7/7 [==============================] - 0s 8ms/step - loss: 0.1820 - accuracy: 0.9319 - val_loss: 0.1302 - val_accuracy: 0.9580\n",
            "Epoch 97/100\n",
            "7/7 [==============================] - 0s 9ms/step - loss: 0.1889 - accuracy: 0.9296 - val_loss: 0.1289 - val_accuracy: 0.9580\n",
            "Epoch 98/100\n",
            "7/7 [==============================] - 0s 8ms/step - loss: 0.1829 - accuracy: 0.9390 - val_loss: 0.1280 - val_accuracy: 0.9580\n",
            "Epoch 99/100\n",
            "7/7 [==============================] - 0s 8ms/step - loss: 0.1752 - accuracy: 0.9460 - val_loss: 0.1262 - val_accuracy: 0.9650\n",
            "Epoch 100/100\n",
            "7/7 [==============================] - 0s 11ms/step - loss: 0.1721 - accuracy: 0.9437 - val_loss: 0.1251 - val_accuracy: 0.9580\n"
          ]
        }
      ]
    },
    {
      "cell_type": "markdown",
      "source": [
        "This code is used to plot the training and validation loss, as well as training and validation accuracy over epochs. It helps visualize the performance of your model during the training process."
      ],
      "metadata": {
        "id": "Iib7Uwzl1g2g"
      }
    },
    {
      "cell_type": "code",
      "source": [
        "import matplotlib.pyplot as plt\n",
        "loss = history.history['loss']\n",
        "val_loss = history.history['val_loss']\n",
        "epochs = range(1, len(loss) + 1)\n",
        "plt .plot(epochs, loss, 'y', label='Training loss')\n",
        "plt.plot(epochs, val_loss, 'r', label='Validation loss')\n",
        "plt.title('Training and validation loss')\n",
        "plt.xlabel('Epochs')\n",
        "plt.ylabel('Loss')\n",
        "plt.legend()\n",
        "plt.show()\n",
        "\n",
        "acc = history.history['accuracy']  #Use accuracy if acc doesn't work\n",
        "val_acc = history.history['val_accuracy']  #Use val_accuracy if acc doesn't work\n",
        "plt.plot(epochs, acc, 'y', label='Training acc')\n",
        "plt.plot(epochs, val_acc, 'r', label='Validation acc')\n",
        "plt.title('Training and validation accuracy')\n",
        "plt.xlabel('Epochs')\n",
        "plt.ylabel('Accuracy')\n",
        "plt.legend()\n",
        "plt.xlim(1, 100)\n",
        "plt.show()\n"
      ],
      "metadata": {
        "id": "EbgmhaKthIGf",
        "colab": {
          "base_uri": "https://localhost:8080/",
          "height": 927
        },
        "outputId": "790f6fd3-69b6-4090-ea63-5c67316119a5"
      },
      "execution_count": null,
      "outputs": [
        {
          "output_type": "display_data",
          "data": {
            "text/plain": [
              "<Figure size 640x480 with 1 Axes>"
            ],
            "image/png": "[encoded data removed]"
          },
          "metadata": {}
        },
        {
          "output_type": "display_data",
          "data": {
            "text/plain": [
              "<Figure size 640x480 with 1 Axes>"
            ],
            "image/png": "[encoded data removed]"
          },
          "metadata": {}
        }
      ]
    },
    {
      "cell_type": "markdown",
      "source": [
        "The first set of code is for making predictions on the test set (X_test) using the trained model. The threshold for binary classification is set at 0.5, meaning if the predicted probability is greater than 0.5, the corresponding instance is classified as positive; otherwise, it is classified as negative.  \n",
        "\n",
        "The Other set of code is used to make a confusion Matrix with heatmap to show the accuracy of the model."
      ],
      "metadata": {
        "id": "OIBhYjJP3Vm8"
      }
    },
    {
      "cell_type": "code",
      "source": [
        "\n",
        "y_pred = model.predict(X_test)\n",
        "y_pred = (y_pred > 0.5)\n",
        "\n",
        "\n",
        "from sklearn.metrics import confusion_matrix\n",
        "cm = confusion_matrix(y_test, y_pred)\n",
        "\n",
        "sns.heatmap(cm, annot=True)"
      ],
      "metadata": {
        "colab": {
          "base_uri": "https://localhost:8080/",
          "height": 465
        },
        "id": "T8A2ih79LkO7",
        "outputId": "df71a6e2-0915-49b0-84f0-79ff37364485"
      },
      "execution_count": null,
      "outputs": [
        {
          "output_type": "stream",
          "name": "stdout",
          "text": [
            "5/5 [==============================] - 0s 4ms/step\n"
          ]
        },
        {
          "output_type": "execute_result",
          "data": {
            "text/plain": [
              "<Axes: >"
            ]
          },
          "metadata": {},
          "execution_count": 45
        },
        {
          "output_type": "display_data",
          "data": {
            "text/plain": [
              "<Figure size 640x480 with 2 Axes>"
            ],
            "image/png": "[encoded data removed]"
          },
          "metadata": {}
        }
      ]
    }
  ]
}